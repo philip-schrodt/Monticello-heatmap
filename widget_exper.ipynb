{
 "cells": [
  {
   "cell_type": "code",
   "execution_count": 105,
   "metadata": {},
   "outputs": [
    {
     "data": {
      "application/vnd.jupyter.widget-view+json": {
       "model_id": "32c630914bd1434daca82be6866dc03f",
       "version_major": 2,
       "version_minor": 0
      },
      "text/plain": [
       "HTML(value='<h3>Changes in ticket sales</h3>')"
      ]
     },
     "metadata": {},
     "output_type": "display_data"
    },
    {
     "data": {
      "application/vnd.jupyter.widget-view+json": {
       "model_id": "bb9ba7dd3dba4c3abe4a8728887ce21e",
       "version_major": 2,
       "version_minor": 0
      },
      "text/plain": [
       "HBox(children=(Label(value='Show changes in map:'), ToggleButtons(options=('Positive', 'Negative', 'Both'), to…"
      ]
     },
     "metadata": {},
     "output_type": "display_data"
    },
    {
     "data": {
      "application/vnd.jupyter.widget-view+json": {
       "model_id": "21ad8bca3292471aa21a9f942c7af6a3",
       "version_major": 2,
       "version_minor": 0
      },
      "text/plain": [
       "Dropdown(description='Base year:', index=1, options=('2014', '2015', '2016', '2017'), value='2015')"
      ]
     },
     "metadata": {},
     "output_type": "display_data"
    },
    {
     "data": {
      "application/vnd.jupyter.widget-view+json": {
       "model_id": "48029ca6690f4aa7bc217810e5e36736",
       "version_major": 2,
       "version_minor": 0
      },
      "text/plain": [
       "Dropdown(description='Comp year:', index=1, options=('2014', '2015', '2016', '2017'), value='2015')"
      ]
     },
     "metadata": {},
     "output_type": "display_data"
    },
    {
     "data": {
      "application/vnd.jupyter.widget-view+json": {
       "model_id": "368e135576f54d438a31d89f5b9df9ba",
       "version_major": 2,
       "version_minor": 0
      },
      "text/plain": [
       "IntSlider(value=10, description='Minimum:', max=200)"
      ]
     },
     "metadata": {},
     "output_type": "display_data"
    },
    {
     "data": {
      "application/vnd.jupyter.widget-view+json": {
       "model_id": "db2bdd75a7304196b78d9632a8cb5729",
       "version_major": 2,
       "version_minor": 0
      },
      "text/plain": [
       "Button(description='update map', layout=Layout(width='100px'), style=ButtonStyle())"
      ]
     },
     "metadata": {},
     "output_type": "display_data"
    },
    {
     "ename": "AttributeError",
     "evalue": "'Map' object has no attribute 'clear_output'",
     "output_type": "error",
     "traceback": [
      "\u001b[0;31m---------------------------------------------------------------------------\u001b[0m",
      "\u001b[0;31mAttributeError\u001b[0m                            Traceback (most recent call last)",
      "\u001b[0;32m<ipython-input-105-347d5a937f8e>\u001b[0m in \u001b[0;36mshow_map\u001b[0;34m(something)\u001b[0m\n\u001b[1;32m     37\u001b[0m \u001b[0;34m\u001b[0m\u001b[0m\n\u001b[1;32m     38\u001b[0m \u001b[0;32mdef\u001b[0m \u001b[0mshow_map\u001b[0m\u001b[0;34m(\u001b[0m\u001b[0msomething\u001b[0m\u001b[0;34m)\u001b[0m\u001b[0;34m:\u001b[0m \u001b[0;31m# hey, it wants one parameter...\u001b[0m\u001b[0;34m\u001b[0m\u001b[0;34m\u001b[0m\u001b[0m\n\u001b[0;32m---> 39\u001b[0;31m     \u001b[0mm\u001b[0m\u001b[0;34m.\u001b[0m\u001b[0mclear_output\u001b[0m\u001b[0;34m(\u001b[0m\u001b[0;34m)\u001b[0m\u001b[0;34m\u001b[0m\u001b[0;34m\u001b[0m\u001b[0m\n\u001b[0m\u001b[1;32m     40\u001b[0m \u001b[0;31m#    display(wtitle, wcases, wbase, wcomp, wmin, button)\u001b[0m\u001b[0;34m\u001b[0m\u001b[0;34m\u001b[0m\u001b[0;34m\u001b[0m\u001b[0m\n\u001b[1;32m     41\u001b[0m \u001b[0;31m#    htparam =\u001b[0m\u001b[0;34m\u001b[0m\u001b[0;34m\u001b[0m\u001b[0;34m\u001b[0m\u001b[0m\n",
      "\u001b[0;31mAttributeError\u001b[0m: 'Map' object has no attribute 'clear_output'"
     ]
    }
   ],
   "source": [
    "import folium\n",
    "from folium.plugins import HeatMap\n",
    "import ipywidgets as widgets\n",
    "from IPython.display import display\n",
    "from IPython.display import clear_output\n",
    "\n",
    "def make_map(minval, chgtype):\n",
    "    global m\n",
    "    thedata = []\n",
    "    valpos=[]\n",
    "    negdata = []\n",
    "    valneg = []\n",
    "    ka = 0\n",
    "    for line in open(\"city_freq.tab\",\"r\"):\n",
    "        field = line[:-1].split(\"\\t\")\n",
    "        if int(field[1]) >= minval:\n",
    "            thedata.append([float(field[2]),float(field[3]),int(field[1])])\n",
    "            valpos.append(int(field[1]))\n",
    "        else:\n",
    "            negdata.append([float(field[2]),float(field[3]),int(field[1])])\n",
    "            valneg.append(int(field[1]))\n",
    "        ka += 1\n",
    "    #    if ka > 320: break\n",
    "    pos_heat = HeatMap( thedata,\n",
    "                       min_opacity=0.2,max_val=max(valpos),radius=4, blur=2, max_zoom=1,\n",
    "                       gradient={.1:\"magenta\",.2: 'cyan', .4: 'green', .6: 'lime', .8: \"orange\", 1: 'red'}\n",
    "                     )\n",
    "    neg_heat = HeatMap( negdata,\n",
    "                       min_opacity=0.2,max_val=2 * max(valneg),radius=4, blur=2, max_zoom=1,\n",
    "                       gradient={.1:\"aliceblue\",.2: 'lavender', .4: 'aqua', .6: 'cyan', .8: \"dodgerblue\", 1: 'blue'}\n",
    "                     )\n",
    "    if chgtype == \"Positive\":\n",
    "        m.add_child(pos_heat)\n",
    "    else:\n",
    "        m.add_child(neg_heat)\n",
    "\n",
    "\n",
    "def show_map(something): # hey, it wants one parameter...\n",
    "    clear_output(m)\n",
    "#    display(wtitle, wcases, wbase, wcomp, wmin, button)\n",
    "#    htparam = \n",
    "    make_map(wmin.value, wtogg.value)\n",
    "    display(m)\n",
    "    \n",
    "m = folium.Map([38.849416, -95.217772], width=700,height=460, zoom_start=4)\n",
    "\n",
    "wtitle = widgets.HTML(value=\"<h3>Changes in ticket sales</h3>\")\n",
    "wmin = widgets.IntSlider(value = 10, max = 200, description='Minimum:')\n",
    "#wpos = widgets.Checkbox( value=True, description='Positive cases')\n",
    "#wneg = widgets.Checkbox( value=False, description='Negative cases')\n",
    "# display(wpos, wneg)\n",
    "wtogg = widgets.ToggleButtons(\n",
    "    options=['Positive', 'Negative', 'Both'],\n",
    "    button_style='', # 'success', 'info', 'warning', 'danger' or ''\n",
    "    tooltips=['Ticket sales higher', 'Ticket sales lower', 'Not implemented'],\n",
    "#     icons=['check'] * 3\n",
    ")\n",
    "wcases = widgets.HBox([widgets.Label(value=\"Show changes in map:\"), wtogg])\n",
    "wbase = widgets.Dropdown(options=['2014', '2015', '2016', '2017'],\n",
    "    value='2015', description='Base year:')\n",
    "wcomp = widgets.Dropdown(options=['2014', '2015', '2016', '2017'],\n",
    "    value='2015', description='Comp year:')\n",
    "button = widgets.Button(description='update map', layout={'width': '100px'})\n",
    "button.on_click(show_map)\n",
    "display(wtitle, wcases, wbase, wcomp, wmin, button)\n",
    "#out = widgets.interactive_output(make_map, {'minval':wmin, 'chgtype': wtogg})\n",
    "#display(out)\n"
   ]
  },
  {
   "cell_type": "code",
   "execution_count": 94,
   "metadata": {},
   "outputs": [
    {
     "data": {
      "application/vnd.jupyter.widget-view+json": {
       "model_id": "85ec5e9d94414b29a64c7a2b754d9121",
       "version_major": 2,
       "version_minor": 0
      },
      "text/plain": [
       "HBox(children=(VBox(children=(IntSlider(value=0, description='ax'), IntSlider(value=0, description='by'), IntS…"
      ]
     },
     "metadata": {},
     "output_type": "display_data"
    }
   ],
   "source": [
    "import ipywidgets as widgets\n",
    "a1 = widgets.IntSlider(description='ax')\n",
    "b2 = widgets.IntSlider(description='by')\n",
    "c3 = widgets.IntSlider(description='cz')\n",
    "def f(aa, bb, cc):\n",
    "    print('{}*{}*{}={}'.format(aa, bb, cc, aa * bb *cc))\n",
    "\n",
    "out = widgets.interactive_output(f, {'aa': a1, 'bb': b2, 'cc': c3})\n",
    "\n",
    "widgets.HBox([widgets.VBox([a1, b2, c3]), out])"
   ]
  },
  {
   "cell_type": "code",
   "execution_count": null,
   "metadata": {},
   "outputs": [],
   "source": []
  },
  {
   "cell_type": "code",
   "execution_count": null,
   "metadata": {},
   "outputs": [],
   "source": []
  },
  {
   "cell_type": "code",
   "execution_count": null,
   "metadata": {},
   "outputs": [],
   "source": []
  }
 ],
 "metadata": {
  "kernelspec": {
   "display_name": "Python 3",
   "language": "python",
   "name": "python3"
  },
  "language_info": {
   "codemirror_mode": {
    "name": "ipython",
    "version": 3
   },
   "file_extension": ".py",
   "mimetype": "text/x-python",
   "name": "python",
   "nbconvert_exporter": "python",
   "pygments_lexer": "ipython3",
   "version": "3.7.1"
  }
 },
 "nbformat": 4,
 "nbformat_minor": 2
}
